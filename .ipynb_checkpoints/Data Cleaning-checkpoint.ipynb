{
 "cells": [
  {
   "cell_type": "markdown",
   "id": "6622a8bf",
   "metadata": {},
   "source": [
    "Import Libraries"
   ]
  },
  {
   "cell_type": "code",
   "execution_count": 1,
   "id": "8bb38a2b",
   "metadata": {},
   "outputs": [],
   "source": [
    "from IPython.core.debugger import set_trace\n",
    "%matplotlib inline\n",
    "import json\n",
    "import pandas as pd\n",
    "import numpy as np\n",
    "import matplotlib.pyplot as plt\n",
    "import matplotlib.dates as mdates\n",
    "import warnings\n",
    "warnings.filterwarnings(\"ignore\")"
   ]
  },
  {
   "cell_type": "markdown",
   "id": "ec9cf922",
   "metadata": {},
   "source": []
  },
  {
   "cell_type": "code",
   "execution_count": 27,
   "id": "ab148b41",
   "metadata": {},
   "outputs": [],
   "source": [
    "df = pd.read_csv(\"future-sales-data/sales_train.csv\", parse_dates=['date'], dayfirst=True)\n",
    "# df = pd.read_csv(\"future-sales-data/sales_train.csv\", parse_dates=['date'])\n",
    "df_items = pd.read_csv(\"future-sales-data/items.csv\")"
   ]
  },
  {
   "cell_type": "code",
   "execution_count": 59,
   "id": "d6702dfe",
   "metadata": {},
   "outputs": [],
   "source": [
    "agg_df = df.groupby(['date_block_num', 'shop_id', 'item_id']).agg({\"item_price\": \"mean\", \"item_cnt_day\": \"sum\"}).reset_index()\n",
    "agg_df.rename(columns={\"item_cnt_day\": \"item_cnt_month\"}, inplace=True)"
   ]
  },
  {
   "cell_type": "code",
   "execution_count": 58,
   "id": "08b065b7",
   "metadata": {},
   "outputs": [
    {
     "name": "stdout",
     "output_type": "stream",
     "text": [
      "         date_block_num  shop_id  item_id  item_price  item_cnt_month  \\\n",
      "747253                1        0       30       265.0            31.0   \n",
      "747735                1        0       31       434.0            11.0   \n",
      "0                     0        0       32       221.0             6.0   \n",
      "37                    1        0       32       221.0            10.0   \n",
      "785                   0        0       33       347.0             3.0   \n",
      "...                 ...      ...      ...         ...             ...   \n",
      "1538480              27       59    22164       699.0             2.0   \n",
      "1538511              30       59    22164       699.0             1.0   \n",
      "1062339               9       59    22167       299.0             1.0   \n",
      "1062386              11       59    22167       299.0             2.0   \n",
      "1062508              17       59    22167       299.0             1.0   \n",
      "\n",
      "         item_category_id  \n",
      "747253                 40  \n",
      "747735                 37  \n",
      "0                      40  \n",
      "37                     40  \n",
      "785                    37  \n",
      "...                   ...  \n",
      "1538480                37  \n",
      "1538511                37  \n",
      "1062339                49  \n",
      "1062386                49  \n",
      "1062508                49  \n",
      "\n",
      "[1609124 rows x 6 columns]\n"
     ]
    }
   ],
   "source": [
    "merge_agg_df = agg_df.merge(df_items, on=[\"item_id\"], how='inner')\n",
    "del merge_agg_df['item_name']\n",
    "merge_agg_df=merge_agg_df.sort_values([\"shop_id\",\"item_id\",\"date_block_num\"])\n",
    "print(merge_agg_df)"
   ]
  },
  {
   "cell_type": "code",
   "execution_count": 56,
   "id": "2497ade7",
   "metadata": {},
   "outputs": [],
   "source": [
    "merge_agg_df.to_csv('future-sales-data/sales_train_clean.csv', index=False)"
   ]
  },
  {
   "cell_type": "code",
   "execution_count": null,
   "id": "f7fc2808",
   "metadata": {},
   "outputs": [],
   "source": [
    "\n",
    "\n",
    "testData = {}\n",
    "i=0\n",
    "for index, row in df_test.iterrows():\n",
    "    i+=1\n",
    "    if i%100 == 0:\n",
    "        print(i)\n",
    "    testData[str(row['shop_id'])+'_'+str(row['item_id'])] = getShopItemData(df, row['shop_id'], row['item_id'])['item_cnt_month'].tolist()\n",
    "json = json.dumps(testData)\n",
    "f = open(\"shopItemSeries.json\",\"w\")\n",
    "f.write(json)\n",
    "f.close()\n",
    "\n",
    "df_test['item_cnt_month'] = df_test.apply(lambda x: (testData[str(x['shop_id'])+'_'+str(x['item_id'])][-3]), axis=1)\n",
    "df_test.to_csv('future-sales-data/test.csv', index=False)\n",
    "\n",
    "nums = []\n",
    "for key, values in testData.items():\n",
    "    nums+=[(key, sum(i > .5 for i in values))]\n",
    "nums = list(map(lambda x: x[0], sorted(nums, reverse=True, key=lambda x: x[1])[:10]))\n",
    "testData2 = { your_key: testData[your_key].tolist() for your_key in nums }\n",
    "df_test2 = df_test[df_test.apply(lambda row: ((str(int(row['shop_id'])) + '_' + str(int(row['item_id']))) in nums), axis=1)]\n",
    "json = json.dumps(testData2)\n",
    "f = open(\"shopItemSeriesR.json\",\"w\")\n",
    "f.write(json)\n",
    "f.close()\n",
    "df_test2.to_csv('future-sales-data/testR.csv', index=False)\n",
    "\n",
    "testDataCat = {}\n",
    "df_items = pd.read_csv(\"future-sales-data/items.csv\")\n",
    "i=0\n",
    "for index, row in df_test.iterrows():\n",
    "    i+=1\n",
    "    if i%100 == 0:\n",
    "        print(i)\n",
    "    testDataCat[str(int(row['shop_id']))+'_'+str(int(row['item_id']))] = getShopCatData(df, row['shop_id'], df_items[df_items['item_id']==row['item_id']]['item_category_id'].iloc[0])['item_cnt_month'].tolist()\n",
    "f = open(\"shopCatSeries.json\",\"w\")\n",
    "f.write(json.dumps(testDataCat))\n",
    "f.close()"
   ]
  }
 ],
 "metadata": {
  "kernelspec": {
   "display_name": "Python 3",
   "language": "python",
   "name": "python3"
  },
  "language_info": {
   "codemirror_mode": {
    "name": "ipython",
    "version": 3
   },
   "file_extension": ".py",
   "mimetype": "text/x-python",
   "name": "python",
   "nbconvert_exporter": "python",
   "pygments_lexer": "ipython3",
   "version": "3.8.8"
  }
 },
 "nbformat": 4,
 "nbformat_minor": 5
}
